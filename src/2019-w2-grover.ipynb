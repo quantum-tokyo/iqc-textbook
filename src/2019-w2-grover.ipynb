{
 "cells": [
  {
   "cell_type": "markdown",
   "metadata": {},
   "source": [
    "# Groverのアルゴリズム（2019年 Week2）\n",
    "\n",
    "```{note} \n",
    "このNotebookはQiskit v0.44の仕様に合わせてコードを改変しています。  \n",
    "```"
   ]
  },
  {
   "cell_type": "markdown",
   "metadata": {},
   "source": [
    "ウィーク２へようこそ！今週は、量子アルゴリズムの一つであるGrover (グローバー) のアルゴリズムについて学びます。 そして、**当チュートリアルの最後には今週の問題（ラーニングチャレンジ演習Ⅱ）がありますので、ぜひチャレンジしてみてください。** \n",
    "\n",
    "古典コンピューターを凌駕する量子コンピューターの数あるアドバンテージの１つに、データベース検索を高速に行えるというのを聞いたことがあるかも知れません。Groverのアルゴリズムはこの能力を実証します。Groverのアルゴリズムは、非構造化データの検索問題に対して二次のオーダーの高速化ができるだけではなく、検索を超えて利用することができます。つまり、その他様々のアルゴリズムの実行時間を二次のオーダーで改善する一般的なテクニック、もしくはサブルーチンとして利用することができます。これは振幅増幅テクニックと呼ばれています。\n",
    "\n",
    "このページでは、検索問題の詳細を説明し、検索問題用のオラクル(Oracle)を回路で作成した後にGroverのアルゴリズムをQisKitを利用して実装します。"
   ]
  },
  {
   "cell_type": "markdown",
   "metadata": {},
   "source": [
    "## 非構造化データの検索\n",
    "$N$個の大きなアイテムリストがあるとします。その中で、一つだけアタリ$w$があるとします。\n",
    "![](resources/2019-w2-unstructured_search.png)\n",
    "\n",
    "アタリの箱（マークのついたアイテム）を見つけるためには、古典計算では平均で $N/2$ 個の箱を探す必要があります。\n",
    "最悪の場合は、$N$ 個探す必要があります。ところが、量子コンピューターでは Groverの振幅増幅のテクニックを使って、\n",
    "おおよそ $\\sqrt N$ ステップでマークされたアイテムを探し出すことができます。\n",
    "二次の高速化は、大きなリスト内のマークされたアイテムを探すためには実際の所、大きな時間の節約になります。\n",
    "さらに、このアルゴリズムはリスト自体の内部構造を利用しないので、一般化することができ、多くの古典の問題でも二次の速度向上をもたらしてくれます。"
   ]
  },
  {
   "cell_type": "markdown",
   "metadata": {},
   "source": [
    "## オラクル\n",
    "量子コンピューターにこのようなリストをどのように提供すればいいでしょうか？このようなリストをエンコードするためによく用いられる手法としては、マークのついていない$x$には$f(x)=0$を返し、アタリ$w$に対しては$f(w)=1$を返すような関数$f$を定義する手法が挙げられます。この問題に対して量子コンピューターを使用するには、この関数に対して、重ね合わせ状態にあるアイテムを提供する必要があります。つまり、この関数をオラクルと呼ばれるユニタリー行列としてエンコードする必要があります。そのために、まず初めにアイテムをバイナリ表現にします。すなわち、$x,w \\in \\{0,1\\}^n$で$N=2^n$です。このようにすると量子コンピューター上の量子ビットとして表現することができます。その後、オラクル行列$U_w$を任意の標準基底$|x>$に対して$U_w |x> =(-1)^{f(x)}|x>$となるように定義します。\n",
    "\n",
    "$x$がマークされていないアイテムの場合、オラクルは状態に対して何もしません。ところが、状態$|w>$に対してオラクルを適用すると、$U_w |w> = -|w>$にマッピングします。幾何学的には、このユニタリー行列は$N=2^n$次元のベクトル空間において、マークされたアイテムを原点に対して反転する操作に対応しています。\n",
    "\n",
    "![](resources/2019-w2-oracle.png)"
   ]
  },
  {
   "cell_type": "markdown",
   "metadata": {},
   "source": [
    "## 振幅増幅（Amplitude amplification）\n",
    "では、アルゴリズムはどのように動作するのでしょう？リストを調べる前は、私たちはマークされたアイテムがどこにあるのか知りません。従って、私たちの推測は、下記の式で表される均一な重ね合わせ状態での位置特定と大差ありません。\n",
    "$$ |s> = \\frac{1}{\\sqrt N}\\sum_{x=0}^{N-1} |x> $$\n",
    "\n",
    "もしこの時点で標準基底 $|x> $でこの重ね合わせ状態を測定した場合、$\\frac{1}{N} = \\frac{1}{2^{n}} $ の確率で、標準基底のうちの一つに収束します。予想通り、正しい$|w>$を当てる確率は$\\frac{1}{2^{n}}$ です。従って、正しいアイテムを推測するには、平均$N=2^{n}$回トライする必要があります。\n"
   ]
  },
  {
   "cell_type": "markdown",
   "metadata": {},
   "source": [
    "そこで振幅増幅と呼ばれる処理を加えましょう。この処理により、量子コンピューターが正しいアイテムを見つける確率を大幅に高めることが出来ます。この処理では、マークされたアイテムの振幅を増幅し、その他のアイテムの振幅を小さくします。この結果、最終状態を測定すると、正しいアイテムをほぼ確実に取り出すことができるようになります。\n",
    "\n",
    "このアルゴリズムには２つの反転という面白い幾何学的解釈があり、２次元平面での回転として表せます。私たちが考慮すべきは、アタリ$|w>$ と均一な重ね合わせ状態$|s>$ の２つの特別な状態のみです。この２つのベクトルは、ベクトル空間 $\\mathbb C^{N}$ において、２次元の平面を張ります。$|w>$ 状態は、$N^{-1/2}$ の振幅で重ね合わせ状態に入っているため、これら２つのベクトルは完全に直交しているわけではありません。\n",
    "\n",
    "しかし、$|s>$ から $|w>$ を削除し、正規化し直す事で$|w>$ に直交する追加の状態 $|s'>$ を導入することができます。\n"
   ]
  },
  {
   "cell_type": "markdown",
   "metadata": {},
   "source": [
    "### Step 0:\n",
    "振幅増幅は均一な重ね合わせ状態 $|s>$ から開始します。均一な重ね合わせ状態は、$|s> = H^{\\otimes n}|0>^{n}$ により簡単に作成できます。$t=0$ の時、初期状態は $|\\psi_{0}> = |s>$ です。\n",
    "![](resources/2019-w2-step0.png)\n",
    "\n",
    "左の図は、$|w>, |s'>$ によって張られる、２次元平面に対応しています。右の図は、$N=2^n$ の場合の、状態 $|\\psi_{t}>$ の振幅を表す棒グラフです。振幅の平均値は破線で示されています。"
   ]
  },
  {
   "cell_type": "markdown",
   "metadata": {},
   "source": [
    "### Step 1:\n",
    "反転のオラクル $U_{w}$ を状態に適用します $U_{w}|\\psi_{t}> = |\\psi_{t'}>$\n",
    "![](resources/2019-w2-step1.png)\n",
    "\n",
    "幾何学的には、状態 $|\\psi_{t}>$ を $|s'>$ に対して反転させることに対応しています。この変換が意味することは、$|w>$ 状態の振幅が負の値になるということで、結果として平均振幅が低くなることを意味しています。(訳注：右側のグラフで破線が下がっていることに着目してください）。\n",
    "                                                                                                                            "
   ]
  },
  {
   "cell_type": "markdown",
   "metadata": {},
   "source": [
    "### Step2:\n",
    "次に、$|s>$ に対する追加の反転 $U_{s}$ を適用します：$U_{s} = 2|s> <s| - 1 $ この変換の結果、状態は $U_{s}|\\psi_{t'}>$ となり、変換 $|\\psi_{t+1}> = U_{s}U_{w}|\\psi_{t}>$ が完了します。（訳注：右側のグラフでwに対応する振幅が増幅されていることに着目してください）。\n",
    "![](resources/2019-w2-step2.png)\n",
    "２つの反転は常に回転と対応しています。$ U_{s}U_{w}$ による変換は、初期状態 $|s>$ をアタリ$|w>$ に近づけるような回転となります。（訳注：step 2の左側の図を参照)。$U_{s}$ による反転の効果は、振幅の棒グラフにおいて、平均振幅での反転と解釈できます。最初の反転で平均振幅の値が低くなったので、この変換は、負の振幅をもった $|w>$ をオリジナルの値から大雑把にいって約３倍程度増幅し、他の振幅は小さくします。その後、**Step １** に戻ってこれを繰り返します。アタリ $w$に近くなるまで、この処理を何回か繰り返します。\n",
    "\n",
    "$t$ 回繰り返した後、状態は $|\\psi_{t}> = (U_{s}U_{w})^{t}|\\psi_{0}> $ に変換されます。"
   ]
  },
  {
   "cell_type": "markdown",
   "metadata": {},
   "source": [
    "回転を何回適用する必要があるでしょうか？ おおよそ $\\sqrt N$ 回転で十分なことが分かっています。これは、状態 $|\\psi_{t}>$ の振幅を調べることで明確になります。$|w>$ の振幅が適用回数と共に線型的（$ \\sim tN^{1/2}$）に増えていくことが見てとれます。確率ではなく振幅を扱っているので、ベクトル空間の値には平方根として入ります。そのため、この処理で増幅されるのは、ただの確率ではなく振幅です。\n",
    "\n",
    "もし解が複数、$M$個ある場合、おおよそ$\\sqrt{(N/M)}$ 回転で十分なことが分かっています。\n",
    "\n",
    "![](resources/2019-w2-grover_algorithm.png)"
   ]
  },
  {
   "cell_type": "markdown",
   "metadata": {},
   "source": [
    "## Qiskitでの実装: 2量子ビットのGroverのアルゴリズム\n",
    "では、GroverのアルゴリズムをQisKitで実装してみましょう。今回は、2量子ビットを使って、$\\ket{11}$を見つけるGroverのアルゴリズムを実装します。\n",
    "\n",
    "最初に環境を準備します。"
   ]
  },
  {
   "cell_type": "code",
   "execution_count": 2,
   "metadata": {},
   "outputs": [],
   "source": [
    "#initialization\n",
    "import matplotlib.pyplot as plt\n",
    "%matplotlib inline\n",
    "import numpy as np\n",
    "\n",
    "# importing Qiskit\n",
    "from qiskit import IBMQ, BasicAer\n",
    "from qiskit_ibm_provider import least_busy\n",
    "from qiskit import QuantumCircuit, ClassicalRegister, QuantumRegister, execute\n",
    "\n",
    "# import basic plot tools\n",
    "from qiskit.tools.visualization import plot_histogram"
   ]
  },
  {
   "cell_type": "markdown",
   "metadata": {},
   "source": [
    "上のStep1で実施したように求めたい解（今回の場合、$|11>$）の符号を反転するオラクルを作成します。"
   ]
  },
  {
   "cell_type": "code",
   "execution_count": 5,
   "metadata": {},
   "outputs": [
    {
     "data": {
      "image/png": "[encoded data removed]",
      "text/plain": [
       "<Figure size 227.556x144.48 with 1 Axes>"
      ]
     },
     "execution_count": 5,
     "metadata": {},
     "output_type": "execute_result"
    }
   ],
   "source": [
    "def phase_oracle(circuit, register):\n",
    "    circuit.cz(register[0], register[1])\n",
    "\n",
    "qr = QuantumRegister(2)\n",
    "oracleCircuit = QuantumCircuit(qr)\n",
    "phase_oracle(oracleCircuit, qr)\n",
    "oracleCircuit.draw(output=\"mpl\")"
   ]
  },
  {
   "cell_type": "markdown",
   "metadata": {},
   "source": [
    "次にStep 2で実施した平均についての反転(inversion about averate)をする回路を作成します。この回路はDiffusion回路と呼ばれることもあります。"
   ]
  },
  {
   "cell_type": "code",
   "execution_count": 8,
   "metadata": {},
   "outputs": [],
   "source": [
    "def inversion_about_average(circuit, register):\n",
    "    \"\"\"Apply inversion about the average step of Grover's algorithm.\"\"\"\n",
    "    circuit.h(register)\n",
    "    circuit.x(register)\n",
    "    circuit.h(register[1])\n",
    "    circuit.cx(register[0], register[1])\n",
    "    circuit.h(register[1])\n",
    "    circuit.x(register)\n",
    "    circuit.h(register)"
   ]
  },
  {
   "cell_type": "code",
   "execution_count": 9,
   "metadata": {},
   "outputs": [
    {
     "data": {
      "image/png": "[encoded data removed]",
      "text/plain": [
       "<Figure size 588.756x144.48 with 1 Axes>"
      ]
     },
     "execution_count": 9,
     "metadata": {},
     "output_type": "execute_result"
    }
   ],
   "source": [
    "qAverage = QuantumCircuit(qr)\n",
    "inversion_about_average(qAverage, qr)\n",
    "qAverage.draw(output='mpl')"
   ]
  },
  {
   "cell_type": "markdown",
   "metadata": {},
   "source": [
    "回路の初めで均一な重ね合わせ状態を準備し、今まで作成した部品を合わせ、最後に測定を行います。四つの可能性のうち解は一つなので、繰り返し回数は一回であることに注意してください。"
   ]
  },
  {
   "cell_type": "code",
   "execution_count": 10,
   "metadata": {},
   "outputs": [
    {
     "data": {
      "image/png": "[encoded data removed]",
      "text/plain": [
       "<Figure size 829.556x204.68 with 1 Axes>"
      ]
     },
     "execution_count": 10,
     "metadata": {},
     "output_type": "execute_result"
    }
   ],
   "source": [
    "qr = QuantumRegister(2)\n",
    "cr = ClassicalRegister(2)\n",
    "\n",
    "groverCircuit = QuantumCircuit(qr,cr)\n",
    "groverCircuit.h(qr)\n",
    "\n",
    "phase_oracle(groverCircuit, qr)\n",
    "inversion_about_average(groverCircuit, qr)\n",
    "\n",
    "groverCircuit.measure(qr,cr)\n",
    "groverCircuit.draw(output=\"mpl\")"
   ]
  },
  {
   "cell_type": "markdown",
   "metadata": {},
   "source": [
    "### シミュレーターでの実験\n",
    "上記の回路をシミュレーターで実行してみます。"
   ]
  },
  {
   "cell_type": "code",
   "execution_count": 11,
   "metadata": {},
   "outputs": [
    {
     "data": {
      "image/png": "[encoded data removed]",
      "text/plain": [
       "<Figure size 504x360 with 1 Axes>"
      ]
     },
     "execution_count": 11,
     "metadata": {},
     "output_type": "execute_result"
    }
   ],
   "source": [
    "backend = BasicAer.get_backend('qasm_simulator')\n",
    "shots = 1024\n",
    "results = execute(groverCircuit, backend=backend, shots=shots).result()\n",
    "answer = results.get_counts()\n",
    "plot_histogram(answer)"
   ]
  },
  {
   "cell_type": "markdown",
   "metadata": {},
   "source": [
    "実行結果から分かるようにGroverのアルゴリズムは解を発見しています。"
   ]
  },
  {
   "cell_type": "markdown",
   "metadata": {},
   "source": [
    "### 実デバイスでの実験\n",
    "以下に示すように、実デバイスで実験を行うこともできます。\n",
    "\n",
    "```{caution}\n",
    "以下のコードは実機を扱うためコメントアウトしています\n",
    "```"
   ]
  },
  {
   "cell_type": "code",
   "execution_count": 18,
   "metadata": {},
   "outputs": [
    {
     "name": "stdout",
     "output_type": "stream",
     "text": [
      "Least busy backend:  ibmq_ourense\n"
     ]
    }
   ],
   "source": [
    "# Load our saved IBMQ accounts and get the least busy backend device\n",
    "\n",
    "# IBMQ.load_account()\n",
    "# provider = IBMQ.get_provider(group='open')\n",
    "# backend_lb = least_busy(provider.backends(simulator=False, operational=True))\n",
    "# print(\"Least busy backend: \", backend_lb)"
   ]
  },
  {
   "cell_type": "code",
   "execution_count": 19,
   "metadata": {},
   "outputs": [
    {
     "name": "stdout",
     "output_type": "stream",
     "text": [
      "Job Status: job has successfully run\n"
     ]
    }
   ],
   "source": [
    "# run our circuit on the least busy backend. Monitor the execution of the job in the queue\n",
    "# from qiskit.tools.monitor import job_monitor\n",
    "\n",
    "# backend = backend_lb\n",
    "# shots = 1024\n",
    "# job_exp = execute(groverCircuit, backend=backend, shots=shots)\n",
    "\n",
    "# job_monitor(job_exp, interval = 2)"
   ]
  },
  {
   "cell_type": "code",
   "execution_count": 21,
   "metadata": {},
   "outputs": [
    {
     "data": {
      "image/png": "[encoded data removed]",
      "text/plain": [
       "<Figure size 504x360 with 1 Axes>"
      ]
     },
     "execution_count": 21,
     "metadata": {},
     "output_type": "execute_result"
    }
   ],
   "source": [
    "# get the results from the computation\n",
    "# results = job_exp.result()\n",
    "# answer = results.get_counts(groverCircuit)\n",
    "# plot_histogram(answer)"
   ]
  },
  {
   "cell_type": "markdown",
   "metadata": {},
   "source": [
    "## Qiskitでの実装: 補助量子ビットを用いた2量子ビットのGroverのアルゴリズム\n",
    "同じ$|11>$を見つける2量子ビットのGroverのアルゴリズムですが、今回は求めたい解の符号を反転する際に補助量子ビットを用いた回路を実装しましょう。補助量子ビットを用いることで、量子ビットの数が増えた際や問題が難しい際の複雑なオラクルを実装しやすくなります。\n",
    "\n",
    "最初に環境を準備します。"
   ]
  },
  {
   "cell_type": "code",
   "execution_count": 1,
   "metadata": {},
   "outputs": [],
   "source": [
    "#initialization\n",
    "import matplotlib.pyplot as plt\n",
    "%matplotlib inline\n",
    "import numpy as np\n",
    "\n",
    "# importing Qiskit\n",
    "from qiskit import IBMQ, BasicAer\n",
    "from qiskit_ibm_provider import least_busy\n",
    "from qiskit import QuantumCircuit, ClassicalRegister, QuantumRegister, execute\n",
    "\n",
    "# import basic plot tools\n",
    "from qiskit.tools.visualization import plot_histogram"
   ]
  },
  {
   "cell_type": "markdown",
   "metadata": {},
   "source": [
    "求めたい解（今回の場合、$|11>$）の符号を反転するオラクルを作成します。但し、今回は補助量子ビットを用いて$|11>$の場合に符号が反転するようにします。この際、正しく符号を反転させるためには事前に補助ビットを$|1>$にする必要があることに注意してください。"
   ]
  },
  {
   "cell_type": "code",
   "execution_count": 14,
   "metadata": {},
   "outputs": [
    {
     "data": {
      "image/png": "[encoded data removed]",
      "text/plain": [
       "<Figure size 408.156x204.68 with 1 Axes>"
      ]
     },
     "execution_count": 14,
     "metadata": {},
     "output_type": "execute_result"
    }
   ],
   "source": [
    "def phase_oracle(circuit, register,oracle_register):\n",
    "    circuit.h(oracle_register)\n",
    "    circuit.ccx(register[0], register[1],oracle_register)\n",
    "    circuit.h(oracle_register)\n",
    "    \n",
    "qr = QuantumRegister(3)\n",
    "oracleCircuit = QuantumCircuit(qr)\n",
    "oracleCircuit.x(qr[2])\n",
    "phase_oracle(oracleCircuit, qr,qr[2])\n",
    "oracleCircuit.draw(output=\"mpl\")"
   ]
  },
  {
   "cell_type": "markdown",
   "metadata": {},
   "source": [
    "次に、Diffusion回路を準備します。Diffusion回路は補助ビットには作用しないようにしてください。"
   ]
  },
  {
   "cell_type": "code",
   "execution_count": 15,
   "metadata": {},
   "outputs": [],
   "source": [
    "def inversion_about_average(circuit, register):\n",
    "    \"\"\"Apply inversion about the average step of Grover's algorithm.\"\"\"\n",
    "    circuit.h(register)\n",
    "    circuit.x(register)\n",
    "    circuit.h(register[1])\n",
    "    circuit.cx(register[0], register[1])\n",
    "    circuit.h(register[1])\n",
    "    circuit.x(register)\n",
    "    circuit.h(register)"
   ]
  },
  {
   "cell_type": "code",
   "execution_count": 16,
   "metadata": {},
   "outputs": [
    {
     "data": {
      "image/png": "[encoded data removed]",
      "text/plain": [
       "<Figure size 588.756x204.68 with 1 Axes>"
      ]
     },
     "execution_count": 16,
     "metadata": {},
     "output_type": "execute_result"
    }
   ],
   "source": [
    "qAverage = QuantumCircuit(qr)\n",
    "inversion_about_average(qAverage, qr[0:2])\n",
    "qAverage.draw(output='mpl')"
   ]
  },
  {
   "cell_type": "markdown",
   "metadata": {},
   "source": [
    "補助ビットなしで作成した回路と同じように、回路の最初で均一な重ね合わせ状態を作成し（この際、補助ビットにHゲートをかけないように注意してください）、変換を適用し、最後に測定をします。"
   ]
  },
  {
   "cell_type": "code",
   "execution_count": 17,
   "metadata": {},
   "outputs": [
    {
     "data": {
      "image/png": "[encoded data removed]",
      "text/plain": [
       "<Figure size 889.756x264.88 with 1 Axes>"
      ]
     },
     "execution_count": 17,
     "metadata": {},
     "output_type": "execute_result"
    }
   ],
   "source": [
    "qr = QuantumRegister(3)\n",
    "cr = ClassicalRegister(3)\n",
    "\n",
    "groverCircuit = QuantumCircuit(qr,cr)\n",
    "groverCircuit.h(qr[0:2])\n",
    "groverCircuit.x(qr[2])\n",
    "\n",
    "phase_oracle(groverCircuit, qr,qr[2])\n",
    "inversion_about_average(groverCircuit, qr[0:2])\n",
    "\n",
    "groverCircuit.measure(qr,cr)\n",
    "groverCircuit.draw(output=\"mpl\")"
   ]
  },
  {
   "cell_type": "markdown",
   "metadata": {},
   "source": [
    "### シミュレーターでの実験\n",
    "上記の回路をシミュレーターで実行してみます。"
   ]
  },
  {
   "cell_type": "code",
   "execution_count": 20,
   "metadata": {},
   "outputs": [
    {
     "data": {
      "image/png": "[encoded data removed]",
      "text/plain": [
       "<Figure size 504x360 with 1 Axes>"
      ]
     },
     "execution_count": 20,
     "metadata": {},
     "output_type": "execute_result"
    }
   ],
   "source": [
    "backend = BasicAer.get_backend('qasm_simulator')\n",
    "shots = 1024\n",
    "results = execute(groverCircuit, backend=backend, shots=shots).result()\n",
    "answer = results.get_counts()\n",
    "plot_histogram(answer)"
   ]
  },
  {
   "cell_type": "markdown",
   "metadata": {},
   "source": [
    "補助ビットなしで作成した回路と同じように$|11>$の状態の確率が増幅されていることが確認できます。最上位ビットの1は補助量子ビットのものなので無視して問題ありません。"
   ]
  },
  {
   "cell_type": "markdown",
   "metadata": {},
   "source": [
    "## 今週の問題（ラーニングチャレンジ演習 Ⅱ）"
   ]
  },
  {
   "cell_type": "markdown",
   "metadata": {},
   "source": [
    "````{admonition} 2量子ビット Groverのアルゴリズムの実装\n",
    "2量子ビットを使って$\\ket{10}$を見つけるGroverのアルゴリズムを実装してみましょう。  \n",
    "その際、補助量子ビットを使わないものと使うものの二パターン実装してみましょう。  *ケット内のより上位の量子ビットがQiskit上の量子レジスタのインデックス数が大きいものに対応しています。*\n",
    "\n",
    "シミュレーターでの実行結果から、最も確率が高い量子ビット列とunrollerを用いてu3とCXに分解した結果を提出してください。  \n",
    "\n",
    "作成した量子回路をUnrollerを用いてu3とCXに分解する方法については、[量子回路のコスト計算について](https://github.com/quantum-challenge/2019/blob/master/problems/how_to_calculate_quantum_cost.ipynb)を参照してください。\n",
    "````\n"
   ]
  },
  {
   "cell_type": "markdown",
   "metadata": {},
   "source": [
    "## 解答例\n",
    "### 補助量子ビットなし"
   ]
  },
  {
   "cell_type": "code",
   "execution_count": 3,
   "metadata": {},
   "outputs": [],
   "source": [
    "#initialization\n",
    "import matplotlib.pyplot as plt\n",
    "%matplotlib inline\n",
    "import numpy as np\n",
    "\n",
    "# importing Qiskit\n",
    "from qiskit import IBMQ, BasicAer\n",
    "from qiskit_ibm_provider import least_busy\n",
    "from qiskit import QuantumCircuit, ClassicalRegister, QuantumRegister, execute\n",
    "\n",
    "# import basic plot tools\n",
    "from qiskit.tools.visualization import plot_histogram"
   ]
  },
  {
   "cell_type": "markdown",
   "metadata": {},
   "source": [
    "$|10>$の状態の符号を反転するオラクルを作成します。このオラクルはCZゲートとXゲートを以下のように組み合わせることにより作成出来ます。$|10>$の状態の符号のみ反転していることを確認してください。"
   ]
  },
  {
   "cell_type": "code",
   "execution_count": 4,
   "metadata": {},
   "outputs": [
    {
     "data": {
      "image/png": "[encoded data removed]",
      "text/plain": [
       "<Figure size 388.934x200.667 with 1 Axes>"
      ]
     },
     "execution_count": 4,
     "metadata": {},
     "output_type": "execute_result"
    }
   ],
   "source": [
    "def phase_oracle(circuit, register):\n",
    "    circuit.x(register[0])\n",
    "    circuit.cz(register[0], register[1])\n",
    "    circuit.x(register[0])\n",
    "\n",
    "qr = QuantumRegister(2)\n",
    "oracleCircuit = QuantumCircuit(qr)\n",
    "phase_oracle(oracleCircuit, qr)\n",
    "oracleCircuit.draw(output=\"mpl\")"
   ]
  },
  {
   "cell_type": "markdown",
   "metadata": {},
   "source": [
    "  ```{admonition} 解説\n",
    "  :class: tip\n",
    "  オラクルは$2^{n}$通りの重ね合わせ状態の中からアタリの状態の符号だけを反転させるものなので、以下のようにXゲートとCZゲートの組み合わせで作成できます。  \n",
    "1. アタリの状態で0になっているビットについてXゲートを掛けて、アタリの状態が全ビットが1である状態に置き換えられるようにします。\n",
    "2. 次にCZゲートを掛けて符号を反転させます。\n",
    "3. 先ほどXゲートを掛けたビットについてもう一度Xゲートを掛け、元のアタリの状態に戻します。\n",
    "\n",
    "![](resources/2019-w2-oracle_unassisted.png)\n",
    "  ```"
   ]
  },
  {
   "cell_type": "code",
   "execution_count": 5,
   "metadata": {},
   "outputs": [],
   "source": [
    "def inversion_about_average(circuit, register):\n",
    "    \"\"\"Apply inversion about the average step of Grover's algorithm.\"\"\"\n",
    "    circuit.h(register)\n",
    "    circuit.x(register)\n",
    "    circuit.h(register[1])\n",
    "    circuit.cx(register[0], register[1])\n",
    "    circuit.h(register[1])\n",
    "    circuit.x(register)\n",
    "    circuit.h(register)"
   ]
  },
  {
   "cell_type": "code",
   "execution_count": 6,
   "metadata": {},
   "outputs": [
    {
     "data": {
      "image/png": "[encoded data removed]",
      "text/plain": [
       "<Figure size 1141.64x284.278 with 1 Axes>"
      ]
     },
     "execution_count": 6,
     "metadata": {},
     "output_type": "execute_result"
    }
   ],
   "source": [
    "qr = QuantumRegister(2)\n",
    "cr = ClassicalRegister(2)\n",
    "\n",
    "groverCircuit = QuantumCircuit(qr,cr)\n",
    "groverCircuit.h(qr)\n",
    "\n",
    "phase_oracle(groverCircuit, qr)\n",
    "inversion_about_average(groverCircuit, qr)\n",
    "\n",
    "groverCircuit.measure(qr,cr)\n",
    "groverCircuit.draw(output=\"mpl\")"
   ]
  },
  {
   "cell_type": "code",
   "execution_count": 7,
   "metadata": {},
   "outputs": [
    {
     "data": {
      "image/png": "[encoded data removed]",
      "text/plain": [
       "<Figure size 700x500 with 1 Axes>"
      ]
     },
     "execution_count": 7,
     "metadata": {},
     "output_type": "execute_result"
    }
   ],
   "source": [
    "backend = BasicAer.get_backend('qasm_simulator')\n",
    "shots = 1024\n",
    "results = execute(groverCircuit, backend=backend, shots=shots).result()\n",
    "answer = results.get_counts()\n",
    "plot_histogram(answer)"
   ]
  },
  {
   "cell_type": "markdown",
   "metadata": {},
   "source": [
    "```{admonition} 解説\n",
    ":class: tip\n",
    "本文Step1, Step2のように振幅増幅を繰り返して、$2^{n}$通りの重ね合わせ状態$|s>$を$|w>$に近付けていきますが、今回はアイテムの総数が4個のため、振幅増幅を1回実施するだけで、理論上は（量子コンピュータのノイズを無視すると）確実にアタリを発見できます。  \n",
    "振幅増幅を行う前の状態は$|s>=\\frac{1}{2}(|00>+|01>+|10>+|11>)$です。  \n",
    "$|w>$に垂直なベクトルを$|s'>$とすると、$|s>=\\frac{1}{2}|w>+a|s'>$と表せます。  \n",
    "$|s>$と$|s'>$のなす角を$θ$とすると、$|s>$の長さは1なので$sinθ=\\frac{1}{2}$、したがって$θ=\\frac{π}{6}$です。  \n",
    "$|s>$にオラクル$ U_{w}$を適用すると(Step1)、$θ=-\\frac{π}{6}$になります。  \n",
    "さらに$ U_{s}$を適用すると(Step2)、$θ=\\frac{π}{2}$となり、$|s>$が$|w>$と一致しアタリを見つけられることが分かります。\n",
    "\n",
    "![2019-w2-amp.png](./resources/2019-w2-amp.png)\n",
    "\n",
    "実際に計算してみると以下のようになり、やはり1回の振幅増幅で$|s>$が$|w>$に一致します。  \n",
    "なお、$ U_{s}|s>=|s>$および(アイテムの総数が4個の場合)$ U_{s}|x>=|s>-|x>$を用いています。  \n",
    "$ U_{w}|s>=\\frac{1}{2}\\sum_{x≠w}^{3} |x> -\\frac{1}{2} |w>=|s>-|w>$  \n",
    "$ U_{s}U_{w}|s>=U_{s}|s>-U_{s}|w>=|s>-(|s>-|w>)=|w>$\n",
    "```"
   ]
  },
  {
   "cell_type": "markdown",
   "metadata": {},
   "source": [
    "### 補助量子ビットあり"
   ]
  },
  {
   "cell_type": "code",
   "execution_count": 11,
   "metadata": {},
   "outputs": [],
   "source": [
    "#initialization\n",
    "import matplotlib.pyplot as plt\n",
    "%matplotlib inline\n",
    "import numpy as np\n",
    "\n",
    "# importing Qiskit\n",
    "from qiskit import IBMQ, BasicAer\n",
    "from qiskit_ibm_provider import least_busy\n",
    "from qiskit import QuantumCircuit, ClassicalRegister, QuantumRegister, execute\n",
    "\n",
    "# import basic plot tools\n",
    "from qiskit.tools.visualization import plot_histogram"
   ]
  },
  {
   "cell_type": "code",
   "execution_count": 14,
   "metadata": {},
   "outputs": [
    {
     "data": {
      "image/png": "[encoded data removed]",
      "text/plain": [
       "<Figure size 408.156x204.68 with 1 Axes>"
      ]
     },
     "execution_count": 14,
     "metadata": {},
     "output_type": "execute_result"
    }
   ],
   "source": [
    "def phase_oracle(circuit, register,oracle_register):\n",
    "    circuit.h(oracle_register)\n",
    "    circuit.x(register[0])\n",
    "    circuit.ccx(register[0], register[1],oracle_register)\n",
    "    circuit.x(register[0])\n",
    "    circuit.h(oracle_register)\n",
    "\n",
    "qr = QuantumRegister(3)\n",
    "oracleCircuit = QuantumCircuit(qr)\n",
    "oracleCircuit.x(qr[2])\n",
    "phase_oracle(oracleCircuit, qr,qr[2])\n",
    "oracleCircuit.draw(output=\"mpl\")"
   ]
  },
  {
   "cell_type": "markdown",
   "metadata": {},
   "source": [
    "  ```{admonition} 解説\n",
    "  :class: tip\n",
    "補助量子ビットありの場合は位相反転に用いているゲートが異なりますが、これも補助量子ビットなしの場合に用いているCZゲートと同じ働きをしています。  \n",
    "補助量子ビットありの場合も以下のような手順でオラクルを作成できます。  \n",
    "1. アタリの状態で0になっているビットについてXゲートを掛けます。\n",
    "2. 位相を反転させます。\n",
    "3. もう一度Xゲートを掛けます。\n",
    "\n",
    "![](resources/2019-w2-oracle_assisted.png)\n",
    "  ```"
   ]
  },
  {
   "cell_type": "code",
   "execution_count": 15,
   "metadata": {},
   "outputs": [],
   "source": [
    "def inversion_about_average(circuit, register):\n",
    "    \"\"\"Apply inversion about the average step of Grover's algorithm.\"\"\"\n",
    "    circuit.h(register)\n",
    "    circuit.x(register)\n",
    "    circuit.h(register[1])\n",
    "    circuit.cx(register[0], register[1])\n",
    "    circuit.h(register[1])\n",
    "    circuit.x(register)\n",
    "    circuit.h(register)"
   ]
  },
  {
   "cell_type": "code",
   "execution_count": 16,
   "metadata": {},
   "outputs": [
    {
     "data": {
      "image/png": "[encoded data removed]",
      "text/plain": [
       "<Figure size 889.756x264.88 with 1 Axes>"
      ]
     },
     "execution_count": 16,
     "metadata": {},
     "output_type": "execute_result"
    }
   ],
   "source": [
    "qr = QuantumRegister(3)\n",
    "cr = ClassicalRegister(3)\n",
    "\n",
    "groverCircuit = QuantumCircuit(qr,cr)\n",
    "groverCircuit.h(qr[0:2])\n",
    "groverCircuit.x(qr[2])\n",
    "\n",
    "phase_oracle(groverCircuit, qr,qr[2])\n",
    "inversion_about_average(groverCircuit, qr[0:2])\n",
    "\n",
    "groverCircuit.measure(qr,cr)\n",
    "groverCircuit.draw(output=\"mpl\")"
   ]
  },
  {
   "cell_type": "code",
   "execution_count": 17,
   "metadata": {},
   "outputs": [
    {
     "data": {
      "image/png": "[encoded data removed]",
      "text/plain": [
       "<Figure size 504x360 with 1 Axes>"
      ]
     },
     "execution_count": 17,
     "metadata": {},
     "output_type": "execute_result"
    }
   ],
   "source": [
    "backend = BasicAer.get_backend('qasm_simulator')\n",
    "shots = 1024\n",
    "results = execute(groverCircuit, backend=backend, shots=shots).result()\n",
    "answer = results.get_counts()\n",
    "plot_histogram(answer)"
   ]
  },
  {
   "cell_type": "markdown",
   "metadata": {},
   "source": [
    "正しく$|10>$の状態の確率が増幅されています（最上位の量子ビットは補助量子ビットのため、無視して問題ありません）。"
   ]
  },
  {
   "cell_type": "markdown",
   "metadata": {},
   "source": [
    "### Unrollerを用いた量子回路の分解\n",
    "上記解答例をUnrollerを用いてu3とCXに分解します。"
   ]
  },
  {
   "cell_type": "code",
   "execution_count": 8,
   "metadata": {},
   "outputs": [
    {
     "data": {
      "image/png": "[encoded data removed]",
      "text/plain": [
       "<Figure size 1225.25x284.278 with 1 Axes>"
      ]
     },
     "execution_count": 8,
     "metadata": {},
     "output_type": "execute_result"
    }
   ],
   "source": [
    "from qiskit.transpiler import PassManager\n",
    "from qiskit.transpiler.passes import Unroller\n",
    "pass_ = Unroller(['u3', 'cx'])\n",
    "pm = PassManager(pass_)\n",
    "new_circuit = pm.run(groverCircuit) \n",
    "new_circuit.draw(output='mpl')"
   ]
  },
  {
   "cell_type": "markdown",
   "metadata": {},
   "source": [
    "解答例の量子回路のコストは、  \n",
    "補助量子ビットなしの場合：$16+2\\times10=36$  \n",
    "補助量子ビットありの場合：$26+7\\times10=96$  \n",
    "となります。"
   ]
  }
 ],
 "metadata": {
  "kernelspec": {
   "display_name": "Python 3 (ipykernel)",
   "language": "python",
   "name": "python3"
  },
  "language_info": {
   "codemirror_mode": {
    "name": "ipython",
    "version": 3
   },
   "file_extension": ".py",
   "mimetype": "text/x-python",
   "name": "python",
   "nbconvert_exporter": "python",
   "pygments_lexer": "ipython3",
   "version": "3.11.3"
  },
  "toc-autonumbering": false
 },
 "nbformat": 4,
 "nbformat_minor": 4
}
